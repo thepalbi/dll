{
 "cells": [
  {
   "cell_type": "code",
   "execution_count": 2,
   "id": "36cdf564-043b-49be-aa90-9bf842989dc0",
   "metadata": {},
   "outputs": [],
   "source": [
    "import torch\n",
    "import torch.nn.functional as F\n",
    "import matplotlib.pyplot as plt\n",
    "%matplotlib inline"
   ]
  },
  {
   "cell_type": "code",
   "execution_count": 3,
   "id": "b6f75917-6e0a-494c-85c5-6c95f1f8e4db",
   "metadata": {},
   "outputs": [
    {
     "data": {
      "text/plain": [
       "['emma',\n",
       " 'olivia',\n",
       " 'ava',\n",
       " 'isabella',\n",
       " 'sophia',\n",
       " 'charlotte',\n",
       " 'mia',\n",
       " 'amelia',\n",
       " 'harper',\n",
       " 'evelyn']"
      ]
     },
     "execution_count": 3,
     "metadata": {},
     "output_type": "execute_result"
    }
   ],
   "source": [
    "words = open('names.txt', 'r').read().splitlines()\n",
    "words[:10]"
   ]
  },
  {
   "cell_type": "code",
   "execution_count": 4,
   "id": "bbd4fa5a-1342-4b38-8d01-cda4350173bc",
   "metadata": {},
   "outputs": [
    {
     "data": {
      "text/plain": [
       "32033"
      ]
     },
     "execution_count": 4,
     "metadata": {},
     "output_type": "execute_result"
    }
   ],
   "source": [
    "len(words)"
   ]
  },
  {
   "cell_type": "code",
   "execution_count": 5,
   "id": "f7020cca-8b98-45a9-8a28-4c199e6326e5",
   "metadata": {},
   "outputs": [
    {
     "name": "stdout",
     "output_type": "stream",
     "text": [
      "{1: 'a', 2: 'b', 3: 'c', 4: 'd', 5: 'e', 6: 'f', 7: 'g', 8: 'h', 9: 'i', 10: 'j', 11: 'k', 12: 'l', 13: 'm', 14: 'n', 15: 'o', 16: 'p', 17: 'q', 18: 'r', 19: 's', 20: 't', 21: 'u', 22: 'v', 23: 'w', 24: 'x', 25: 'y', 26: 'z', 0: '.'}\n"
     ]
    }
   ],
   "source": [
    "chars = sorted(list(set(''.join(words))))\n",
    "stoi = {s:i+1 for i,s in enumerate(chars)}\n",
    "stoi['.'] = 0\n",
    "itos = {i:s for s,i in stoi.items()}\n",
    "print(itos)"
   ]
  },
  {
   "cell_type": "code",
   "execution_count": 6,
   "id": "7479aa21-82ef-439d-b20c-6d574f43e3cb",
   "metadata": {},
   "outputs": [
    {
     "data": {
      "text/plain": [
       "26"
      ]
     },
     "execution_count": 6,
     "metadata": {},
     "output_type": "execute_result"
    }
   ],
   "source": [
    "len(chars)"
   ]
  },
  {
   "cell_type": "code",
   "execution_count": 258,
   "id": "70f5986e-cc8a-4395-a4a8-887b281abc0a",
   "metadata": {},
   "outputs": [],
   "source": [
    "block_size = 3\n",
    "\n",
    "def build_dataset(words):\n",
    "    X, Y = [], []\n",
    "    for w in words:\n",
    "        context = [0] * block_size\n",
    "        for ch in (w + '.'):\n",
    "            ix = stoi[ch]\n",
    "            X.append(context)\n",
    "            Y.append(ix)\n",
    "            context = context[1:] + [ix]\n",
    "    X = torch.tensor(X)\n",
    "    Y = torch.tensor(Y)\n",
    "    print(X.shape, Y.shape)\n",
    "    return X, Y"
   ]
  },
  {
   "cell_type": "code",
   "execution_count": 257,
   "id": "9149c95d-3c9d-466a-914a-0b0ba4fc34b0",
   "metadata": {},
   "outputs": [
    {
     "name": "stdout",
     "output_type": "stream",
     "text": [
      "torch.Size([182625, 3]) torch.Size([182625])\n",
      "torch.Size([22655, 3]) torch.Size([22655])\n",
      "torch.Size([22866, 3]) torch.Size([22866])\n"
     ]
    }
   ],
   "source": [
    "import random\n",
    "random.seed(42)\n",
    "random.shuffle(words)\n",
    "n1 = int(.8 * len(words)) # first 80% for training\n",
    "n2 = int(.9 * len(words)) # next 10% for dev/validation, and last for test set\n",
    "\n",
    "Xtr, Ytr = build_dataset(words[:n1])\n",
    "Xdev, Ydev = build_dataset(words[n1:n2])\n",
    "Xtest, Ytest = build_dataset(words[n2:])"
   ]
  },
  {
   "cell_type": "code",
   "execution_count": 327,
   "id": "eaef0deb-c6b4-418d-b907-4c1ae604067d",
   "metadata": {},
   "outputs": [],
   "source": [
    "# hyper paramters\n",
    "hidden_layer_size = 200\n",
    "batch_size = 64\n",
    "emb_size = 10"
   ]
  },
  {
   "cell_type": "code",
   "execution_count": 328,
   "id": "a2e94499-4e38-488e-a239-125203ca537f",
   "metadata": {},
   "outputs": [
    {
     "data": {
      "text/plain": [
       "11897"
      ]
     },
     "execution_count": 328,
     "metadata": {},
     "output_type": "execute_result"
    }
   ],
   "source": [
    "# parameters\n",
    "\n",
    "# we will map the characters (words in the paper), into a 2 dimensional space\n",
    "g = torch.Generator().manual_seed(132412312)\n",
    "C = torch.randn((27, emb_size), generator=g)\n",
    "W1 = torch.randn((emb_size*block_size, hidden_layer_size), generator=g) # emb_size + block_size\n",
    "b1 = torch.randn(hidden_layer_size, generator=g)\n",
    "W2 = torch.randn((hidden_layer_size, 27), generator=g)\n",
    "b2 = torch.randn(27, generator=g)\n",
    "\n",
    "parameters = [C, W1, b1, W2, b2]\n",
    "for p in parameters:\n",
    "    p.requires_grad = True\n",
    "sum(p.nelement() for p in parameters)"
   ]
  },
  {
   "cell_type": "code",
   "execution_count": 329,
   "id": "f63bf5d8-fd01-4ef3-82c6-5435982702ee",
   "metadata": {},
   "outputs": [],
   "source": [
    "def calculate_dataset_loss(X, Y):\n",
    "    emb = C[X]\n",
    "    h = torch.tanh(emb.view(emb.shape[0], emb_size*block_size) @ W1 + b1)\n",
    "    logits = h @ W2 + b2\n",
    "    # also take labels for minibatch\n",
    "    loss = F.cross_entropy(logits, Y) # more performant, and numerically well-behaved\n",
    "    return loss"
   ]
  },
  {
   "cell_type": "code",
   "execution_count": 330,
   "id": "8595d4ba-f847-4961-bfbb-cd08400ab18a",
   "metadata": {},
   "outputs": [],
   "source": [
    "stepi = []\n",
    "lossi = []"
   ]
  },
  {
   "cell_type": "code",
   "execution_count": 337,
   "id": "6aebfb8d-c938-4143-bb6a-15d8051d1a26",
   "metadata": {},
   "outputs": [],
   "source": [
    "for i in range(50000):\n",
    "    # make minibatch\n",
    "    ix = torch.randint(0, Xtr.shape[0], (batch_size,))\n",
    "    \n",
    "    # forward pass\n",
    "    emb = C[Xtr[ix]]\n",
    "    h = torch.tanh(emb.view(emb.shape[0], emb_size*block_size) @ W1 + b1)\n",
    "    logits = h @ W2 + b2\n",
    "    # also take labels for minibatch\n",
    "    loss = F.cross_entropy(logits, Ytr[ix]) # more performant, and numerically well-behaved\n",
    "    \n",
    "    # clear out\n",
    "    for p in parameters:\n",
    "        p.grad = None\n",
    "        \n",
    "    # backward\n",
    "    loss.backward()\n",
    "    \n",
    "    # update\n",
    "    lr = 0.001 if loss <= 2.3 else 0.1\n",
    "    for p in parameters:\n",
    "        p.data += -.1 * p.grad\n",
    "\n",
    "    # record data\n",
    "    stepi.append(i)\n",
    "    lossi.append(loss.item())"
   ]
  },
  {
   "cell_type": "code",
   "execution_count": 333,
   "id": "31ffc37a-1410-42a6-a241-3b12f7d0751e",
   "metadata": {},
   "outputs": [
    {
     "data": {
      "text/plain": [
       "[<matplotlib.lines.Line2D at 0x17f6654d0>]"
      ]
     },
     "execution_count": 333,
     "metadata": {},
     "output_type": "execute_result"
    },
    {
     "data": {
      "image/png": "[encoded data removed]",
      "text/plain": [
       "<Figure size 640x480 with 1 Axes>"
      ]
     },
     "metadata": {},
     "output_type": "display_data"
    }
   ],
   "source": [
    "plt.plot(stepi, torch.tensor(lossi).log())"
   ]
  },
  {
   "cell_type": "code",
   "execution_count": 338,
   "id": "20fb2a2d-3637-4fb1-b7ef-0b5921976ef8",
   "metadata": {},
   "outputs": [
    {
     "name": "stdout",
     "output_type": "stream",
     "text": [
      "train loss:\t 2.163668155670166\n",
      "dev loss:\t 2.214434862136841\n"
     ]
    }
   ],
   "source": [
    "print(f\"train loss:\\t {calculate_dataset_loss(Xtr, Ytr).item()}\")\n",
    "print(f\"dev loss:\\t {calculate_dataset_loss(Xdev, Ydev).item()}\")"
   ]
  },
  {
   "cell_type": "markdown",
   "id": "9a883e3b-7516-4ab7-b278-36ef91199957",
   "metadata": {},
   "source": [
    "1. Encontrar un learning rate general para entrenar el grueso\n",
    "2. Learning rate decay de un orden de magnitud"
   ]
  },
  {
   "cell_type": "code",
   "execution_count": 340,
   "id": "1d9a9612-c540-4104-a462-81cbc04b3483",
   "metadata": {},
   "outputs": [],
   "source": [
    "g2 = torch.Generator().manual_seed(123123)"
   ]
  },
  {
   "cell_type": "code",
   "execution_count": 341,
   "id": "4ad0e52d-d69d-40a7-9b62-7c06c3710c8f",
   "metadata": {},
   "outputs": [
    {
     "name": "stdout",
     "output_type": "stream",
     "text": [
      "loz.\n",
      "jeannaree.\n",
      "brey.\n",
      "kaveid.\n",
      "garmain.\n",
      "kaudah.\n",
      "kalimann.\n",
      "elio.\n",
      "emmatii.\n",
      "rasrasynn.\n",
      "kaylaina.\n",
      "aileihamarah.\n",
      "dur.\n",
      "ganna.\n",
      "eveshoniannasal.\n",
      "davay.\n",
      "kenny.\n",
      "cedsleia.\n",
      "kelen.\n",
      "keylumie.\n"
     ]
    }
   ],
   "source": [
    "# sample from the model\n",
    "\n",
    "for _ in range(20):\n",
    "    out = []\n",
    "    context = [0] * block_size\n",
    "    while True:\n",
    "        emb = C[torch.tensor(context)]\n",
    "        h = torch.tanh(emb.view(1, -1) @ W1 + b1)\n",
    "        logits = h @ W2 + b2\n",
    "        probs = F.softmax(logits, dim=1)\n",
    "        ix = torch.multinomial(probs, num_samples=1, generator=g2).item()\n",
    "        context = context[1:] + [ix]\n",
    "        out.append(ix)\n",
    "        if ix == 0:\n",
    "            break\n",
    "\n",
    "    print(''.join(itos[i] for i in out))"
   ]
  }
 ],
 "metadata": {
  "kernelspec": {
   "display_name": "Python 3 (ipykernel)",
   "language": "python",
   "name": "python3"
  },
  "language_info": {
   "codemirror_mode": {
    "name": "ipython",
    "version": 3
   },
   "file_extension": ".py",
   "mimetype": "text/x-python",
   "name": "python",
   "nbconvert_exporter": "python",
   "pygments_lexer": "ipython3",
   "version": "3.11.7"
  }
 },
 "nbformat": 4,
 "nbformat_minor": 5
}
